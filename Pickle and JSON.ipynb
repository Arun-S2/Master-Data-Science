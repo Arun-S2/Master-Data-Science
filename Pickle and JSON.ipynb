{
 "cells": [
  {
   "cell_type": "markdown",
   "id": "1b329cf4",
   "metadata": {},
   "source": [
    "# Pickle\n",
    "\n",
    "### Is used to encrypt and decrypt a data and store in a file\n",
    "\n",
    "### Functions:\n",
    "    1 Dump\n",
    "    2 Load"
   ]
  },
  {
   "cell_type": "code",
   "execution_count": null,
   "id": "b77e0424",
   "metadata": {},
   "outputs": [],
   "source": [
    "import pickle"
   ]
  },
  {
   "cell_type": "markdown",
   "id": "3f254b3d",
   "metadata": {},
   "source": [
    "### Update a encrypted data in a new file\n",
    "\n",
    "### Method 1"
   ]
  },
  {
   "cell_type": "code",
   "execution_count": 19,
   "id": "b408e623",
   "metadata": {},
   "outputs": [],
   "source": [
    "mylist =  ['a','b','c','d']               # Data for upload\n",
    "\n",
    "f = open('datafile.txt','wb')             # open new a txt file with write binary mode ('wb')\n",
    "\n",
    "pickle.dump(mylist,f)                     # Dump(upload) the file    # pickle.dump(vvariable/list/data,)\n",
    "\n",
    "f.close()                                 # File close"
   ]
  },
  {
   "cell_type": "markdown",
   "id": "981bb9b3",
   "metadata": {},
   "source": [
    "### Method 2\n",
    "\n",
    "### Using this type will automaticaly open ,read and close the file"
   ]
  },
  {
   "cell_type": "code",
   "execution_count": 20,
   "id": "d4bf0a98",
   "metadata": {},
   "outputs": [],
   "source": [
    "mylist = ['Arun','kumar','Python']       # Data for upload\n",
    "\n",
    "with open('Datafile1.txt','wb') as fh:   # open new a txt file with write binary mode ('wb')\n",
    "    pickle.dump(mylist,fh)               # Dump(upload) the file    # pickle.dump(vvariable/list/data,file)"
   ]
  },
  {
   "cell_type": "markdown",
   "id": "2859a15c",
   "metadata": {},
   "source": [
    "### To find the file location"
   ]
  },
  {
   "cell_type": "code",
   "execution_count": 12,
   "id": "beebb990",
   "metadata": {
    "scrolled": true
   },
   "outputs": [
    {
     "data": {
      "text/plain": [
       "'C:\\\\Users\\\\LENOVA'"
      ]
     },
     "execution_count": 12,
     "metadata": {},
     "output_type": "execute_result"
    }
   ],
   "source": [
    "pwd"
   ]
  },
  {
   "cell_type": "markdown",
   "id": "c180dcad",
   "metadata": {},
   "source": [
    "# Read encrypt file"
   ]
  },
  {
   "cell_type": "code",
   "execution_count": 52,
   "id": "d745ddaa",
   "metadata": {},
   "outputs": [
    {
     "name": "stdout",
     "output_type": "stream",
     "text": [
      "['a', 'b', 'c', 'd']\n"
     ]
    }
   ],
   "source": [
    "r = open('datafile.txt','rb')            # File assined to a variable 'r'\n",
    "\n",
    "p = pickle.load(r)                       # Data loded in a variable 'p'\n",
    "\n",
    "print(p)\n",
    "\n",
    "f.close()                                 # File close"
   ]
  },
  {
   "cell_type": "markdown",
   "id": "45b8875c",
   "metadata": {},
   "source": [
    "# BZ2 (Compress into smaller file)"
   ]
  },
  {
   "cell_type": "code",
   "execution_count": 55,
   "id": "aa0649e2",
   "metadata": {},
   "outputs": [],
   "source": [
    "import bz2\n",
    "import pickle\n",
    "\n",
    "x = {\"name\":\"Arun\",\"Age\":10,\"city\":\"salem\"}        # Dictionary\n",
    "\n",
    "x1 = bz2.BZ2File('compressed file','w')            # Open new file (compressed file) in write mode\n",
    "\n",
    "pickle.dump(x,x1)                                  # Dump a data in file\n",
    "                                                   # Syntax - pickle.dump(data,file)"
   ]
  },
  {
   "cell_type": "markdown",
   "id": "12006168",
   "metadata": {},
   "source": [
    "# JSON\n",
    "\n",
    "### JSON file is in dictionary format\n",
    "### Dictionary file\n",
    "    {'Name':'Arun'}\n",
    "### JSON file\n",
    "   '{'Name':'Arun'}'\n",
    "### Single quote is the difference for Dict and JSON, So it act as a 'Class_str'\n",
    "\n",
    "\n",
    "## JSON file to Dict"
   ]
  },
  {
   "cell_type": "code",
   "execution_count": 50,
   "id": "84a84040",
   "metadata": {},
   "outputs": [
    {
     "name": "stdout",
     "output_type": "stream",
     "text": [
      "Arun\n",
      "<class 'dict'>\n"
     ]
    },
    {
     "data": {
      "text/plain": [
       "{'name': 'Arun', 'Age': 10, 'city': 'salem'}"
      ]
     },
     "execution_count": 50,
     "metadata": {},
     "output_type": "execute_result"
    }
   ],
   "source": [
    "import json\n",
    "\n",
    "# JSON File\n",
    "x = '{\"name\":\"Arun\",\"Age\":10,\"city\":\"salem\"}'\n",
    "\n",
    "# Load JSON as Dictionary\n",
    "j = json.loads(x)\n",
    "\n",
    "# Access\n",
    "print(j['name'])"
   ]
  },
  {
   "cell_type": "markdown",
   "id": "1f160c44",
   "metadata": {},
   "source": [
    "## Dictionary to JSON file"
   ]
  },
  {
   "cell_type": "code",
   "execution_count": 51,
   "id": "6d607f52",
   "metadata": {},
   "outputs": [
    {
     "name": "stdout",
     "output_type": "stream",
     "text": [
      "{\"name\": \"Arun\", \"Age\": 10, \"city\": \"salem\"}\n",
      "<class 'str'>\n"
     ]
    },
    {
     "data": {
      "text/plain": [
       "'{\"name\": \"Arun\", \"Age\": 10, \"city\": \"salem\"}'"
      ]
     },
     "execution_count": 51,
     "metadata": {},
     "output_type": "execute_result"
    }
   ],
   "source": [
    "import json\n",
    "\n",
    "# Dictinory File\n",
    "x = {\"name\":\"Arun\",\"Age\":10,\"city\":\"salem\"}\n",
    "\n",
    "# Load Dictionary as Json\n",
    "j = json.dumps(x)\n",
    "\n",
    "# Access\n",
    "print(j)"
   ]
  },
  {
   "cell_type": "code",
   "execution_count": null,
   "id": "4480bda9",
   "metadata": {},
   "outputs": [],
   "source": []
  }
 ],
 "metadata": {
  "kernelspec": {
   "display_name": "Python 3 (ipykernel)",
   "language": "python",
   "name": "python3"
  },
  "language_info": {
   "codemirror_mode": {
    "name": "ipython",
    "version": 3
   },
   "file_extension": ".py",
   "mimetype": "text/x-python",
   "name": "python",
   "nbconvert_exporter": "python",
   "pygments_lexer": "ipython3",
   "version": "3.11.5"
  }
 },
 "nbformat": 4,
 "nbformat_minor": 5
}
