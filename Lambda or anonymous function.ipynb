{
 "cells": [
  {
   "cell_type": "markdown",
   "id": "fb40e3cd",
   "metadata": {},
   "source": [
    "# Lambda or anonymous function\n",
    "### Is for single line code"
   ]
  },
  {
   "cell_type": "code",
   "execution_count": null,
   "id": "daad92c7",
   "metadata": {},
   "outputs": [],
   "source": []
  }
 ],
 "metadata": {
  "kernelspec": {
   "display_name": "Python 3 (ipykernel)",
   "language": "python",
   "name": "python3"
  },
  "language_info": {
   "codemirror_mode": {
    "name": "ipython",
    "version": 3
   },
   "file_extension": ".py",
   "mimetype": "text/x-python",
   "name": "python",
   "nbconvert_exporter": "python",
   "pygments_lexer": "ipython3",
   "version": "3.11.5"
  }
 },
 "nbformat": 4,
 "nbformat_minor": 5
}
