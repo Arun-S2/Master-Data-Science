{
 "cells": [
  {
   "cell_type": "markdown",
   "id": "76daffc1",
   "metadata": {},
   "source": [
    "# Map and Filter function\n",
    "\n",
    "## To avoid for loop"
   ]
  },
  {
   "cell_type": "markdown",
   "id": "ab6f2739",
   "metadata": {},
   "source": [
    "## Syntax \n",
    "\n",
    "    # map(Function, Iterator)\n",
    "    \n",
    "    # Function:\n",
    "        1. Inbuilt function or\n",
    "        2. User defined function or\n",
    "        3. Lambda function\n",
    "    # Iterator\n",
    "        Iterator is a set of elements like list"
   ]
  },
  {
   "cell_type": "markdown",
   "id": "0f81f67a",
   "metadata": {},
   "source": [
    "### Output is a object"
   ]
  },
  {
   "cell_type": "code",
   "execution_count": 25,
   "id": "dd782e57",
   "metadata": {
    "collapsed": true
   },
   "outputs": [
    {
     "data": {
      "text/plain": [
       "<map at 0xc27636dd50>"
      ]
     },
     "execution_count": 25,
     "metadata": {},
     "output_type": "execute_result"
    }
   ],
   "source": [
    "l = [1,2,3,4,5,6,7,8,9,10]\n",
    "\n",
    "square = lambda x: x**2\n",
    "        \n",
    "map(square,l)             #Square is a function and l is a iterator\n",
    "\n",
    "# The result is more than one element, So output is a objet. And it to stored in a list. "
   ]
  },
  {
   "cell_type": "markdown",
   "id": "1dd13760",
   "metadata": {},
   "source": [
    "### Object ouput will be stored in a list"
   ]
  },
  {
   "cell_type": "markdown",
   "id": "52b43ee7",
   "metadata": {},
   "source": [
    "### Using lamda function"
   ]
  },
  {
   "cell_type": "code",
   "execution_count": 30,
   "id": "68ed9cd6",
   "metadata": {
    "scrolled": true
   },
   "outputs": [
    {
     "name": "stdout",
     "output_type": "stream",
     "text": [
      "[1, 4, 9, 16, 25, 36, 49, 64, 81, 100]\n"
     ]
    }
   ],
   "source": [
    "l = [1,2,3,4,5,6,7,8,9,10]\n",
    "\n",
    "square = lambda x: x**2\n",
    "\n",
    "sq = list(map(square,l))             #Square is a function and l is a iterator\n",
    "\n",
    "def square1(x):\n",
    "    return(x**2)\n",
    "\n",
    "print(sq)"
   ]
  },
  {
   "cell_type": "markdown",
   "id": "c2659e5d",
   "metadata": {},
   "source": [
    "### Using user defined function"
   ]
  },
  {
   "cell_type": "code",
   "execution_count": 1,
   "id": "8d9d6211",
   "metadata": {
    "scrolled": false
   },
   "outputs": [
    {
     "name": "stdout",
     "output_type": "stream",
     "text": [
      "[1, 4, 9, 16, 25, 36, 49, 64, 81, 100]\n"
     ]
    }
   ],
   "source": [
    "l = [1,2,3,4,5,6,7,8,9,10]\n",
    "\n",
    "def square(x):                       # Single arrgument only is to be given\n",
    "    return(x**2)\n",
    "\n",
    "sq = list(map(square,l))             # Square is a function and l is a iterator\n",
    "\n",
    "print(sq)"
   ]
  },
  {
   "cell_type": "markdown",
   "id": "6b02e5e7",
   "metadata": {},
   "source": [
    "# For string\n",
    "\n",
    "### Upper case"
   ]
  },
  {
   "cell_type": "code",
   "execution_count": 5,
   "id": "35822e9d",
   "metadata": {},
   "outputs": [
    {
     "name": "stdout",
     "output_type": "stream",
     "text": [
      "['ARUN', 'KUMAR']\n"
     ]
    }
   ],
   "source": [
    "l = ['Arun','Kumar']\n",
    "\n",
    "sq = list(map(str.upper,l))             # str.upper is a function and l is a iterator\n",
    "\n",
    "print(sq)"
   ]
  },
  {
   "cell_type": "markdown",
   "id": "16f1b174",
   "metadata": {},
   "source": [
    "### Lower case"
   ]
  },
  {
   "cell_type": "code",
   "execution_count": 6,
   "id": "f173dd32",
   "metadata": {},
   "outputs": [
    {
     "name": "stdout",
     "output_type": "stream",
     "text": [
      "['arun', 'kumar']\n"
     ]
    }
   ],
   "source": [
    "l = ['Arun','Kumar']\n",
    "\n",
    "sq = list(map(str.lower,l))             # str.lower is a function and l is a iterator\n",
    "\n",
    "print(sq)"
   ]
  },
  {
   "cell_type": "markdown",
   "id": "847d72d3",
   "metadata": {},
   "source": [
    "# Filter\n",
    "### It is used to filter values in a list without using for loop\n",
    "### For numbers"
   ]
  },
  {
   "cell_type": "code",
   "execution_count": 7,
   "id": "5bb5162f",
   "metadata": {},
   "outputs": [
    {
     "name": "stdout",
     "output_type": "stream",
     "text": [
      "[2, 4, 6, 8, 10]\n"
     ]
    }
   ],
   "source": [
    "n = [1, 2, 3, 4, 5, 6, 7, 8, 9, 10]\n",
    "\n",
    "s = list(filter(lambda x:x%2==0,n))\n",
    "\n",
    "print(s)"
   ]
  },
  {
   "cell_type": "markdown",
   "id": "c937fcf1",
   "metadata": {},
   "source": [
    "### For string"
   ]
  },
  {
   "cell_type": "code",
   "execution_count": 10,
   "id": "4eed877c",
   "metadata": {},
   "outputs": [
    {
     "name": "stdout",
     "output_type": "stream",
     "text": [
      "['c', 'c', 'c']\n"
     ]
    }
   ],
   "source": [
    "n = ['a','b','c','d','a','b','c','d','a','b','c','d']\n",
    "\n",
    "s = list(filter(lambda x:x=='c',n))\n",
    "\n",
    "print(s)"
   ]
  },
  {
   "cell_type": "code",
   "execution_count": null,
   "id": "c381ab19",
   "metadata": {},
   "outputs": [],
   "source": []
  }
 ],
 "metadata": {
  "kernelspec": {
   "display_name": "Python 3 (ipykernel)",
   "language": "python",
   "name": "python3"
  },
  "language_info": {
   "codemirror_mode": {
    "name": "ipython",
    "version": 3
   },
   "file_extension": ".py",
   "mimetype": "text/x-python",
   "name": "python",
   "nbconvert_exporter": "python",
   "pygments_lexer": "ipython3",
   "version": "3.11.5"
  }
 },
 "nbformat": 4,
 "nbformat_minor": 5
}
