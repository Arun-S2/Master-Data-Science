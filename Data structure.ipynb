{
 "cells": [
  {
   "cell_type": "markdown",
   "id": "9c4d6eeb",
   "metadata": {},
   "source": [
    "# Python basics  , Data structure\n",
    "\n",
    "\n",
    "# List\n",
    "\n",
    "### Functions\n",
    "    # append\n",
    "    # clear\n",
    "    # copy\n",
    "    # count\n",
    "    # extend\n",
    "    # index\n",
    "    # insert\n",
    "    # pop\n",
    "    # remove\n",
    "    # reverse\n",
    "    # sort"
   ]
  },
  {
   "cell_type": "markdown",
   "id": "24afd1ea",
   "metadata": {},
   "source": [
    "### 1.Append   , Add additional data to the list"
   ]
  },
  {
   "cell_type": "code",
   "execution_count": 3,
   "id": "a25bb9a4",
   "metadata": {},
   "outputs": [
    {
     "name": "stdout",
     "output_type": "stream",
     "text": [
      "[1, 2, 3, 4, 5, 6]\n"
     ]
    }
   ],
   "source": [
    "l = [1,2,3,4,5]\n",
    "\n",
    "# It can add only one data\n",
    "\n",
    "l.append(6)            # l.append(value)   # Value can be string , number or object etc,\n",
    "\n",
    "print(l)\n",
    "\n",
    "#Result = [1, 2, 3, 4, 5, 6]"
   ]
  },
  {
   "cell_type": "markdown",
   "id": "ce87d9a9",
   "metadata": {},
   "source": [
    "### 2.Clear  , Clear entire data in the list"
   ]
  },
  {
   "cell_type": "code",
   "execution_count": 10,
   "id": "a59442ed",
   "metadata": {},
   "outputs": [
    {
     "name": "stdout",
     "output_type": "stream",
     "text": [
      "[]\n"
     ]
    }
   ],
   "source": [
    "l = [1,2,3,4,5]\n",
    "\n",
    "l.clear()            # l.clear(no arguments)\n",
    "print(l)\n",
    "\n",
    "# Result = []"
   ]
  },
  {
   "cell_type": "markdown",
   "id": "9ae55e0e",
   "metadata": {},
   "source": [
    "### 3.Copy , Copy the list and use as required"
   ]
  },
  {
   "cell_type": "code",
   "execution_count": 13,
   "id": "c7ed4b96",
   "metadata": {},
   "outputs": [
    {
     "name": "stdout",
     "output_type": "stream",
     "text": [
      "[1, 2, 3, 4, 5]\n"
     ]
    }
   ],
   "source": [
    "l = [1,2,3,4,5]\n",
    "\n",
    "i = l.copy()            # l.copy(no arguments)\n",
    "print(i)\n",
    "\n",
    "# Result = [1, 2, 3, 4, 5]"
   ]
  },
  {
   "cell_type": "markdown",
   "id": "5d8e2c2f",
   "metadata": {},
   "source": [
    "### 4.Count  , Count the time of repeted values in the list"
   ]
  },
  {
   "cell_type": "code",
   "execution_count": 25,
   "id": "0821404f",
   "metadata": {},
   "outputs": [
    {
     "name": "stdout",
     "output_type": "stream",
     "text": [
      "2\n"
     ]
    }
   ],
   "source": [
    "l = [1,2,3,4,5,3]\n",
    "\n",
    "i = l.count(3)            # l.count(value)\n",
    "print(i)\n",
    "\n",
    "# Result = 2"
   ]
  },
  {
   "cell_type": "markdown",
   "id": "0f7f3aa9",
   "metadata": {},
   "source": [
    "### 5.Extend , Add one or more values"
   ]
  },
  {
   "cell_type": "code",
   "execution_count": 23,
   "id": "3efe3999",
   "metadata": {},
   "outputs": [
    {
     "name": "stdout",
     "output_type": "stream",
     "text": [
      "[1, 2, 3, 4, 5, 6, 7, 8]\n"
     ]
    }
   ],
   "source": [
    "l = [1,2,3,4,5]\n",
    "\n",
    "# Value should be inside th square bracket\n",
    "\n",
    "l.extend([6,7,8])            # l.extend([values])\n",
    "print(l)\n",
    "\n",
    "# Result = [1, 2, 3, 4, 5, 6, 7, 8]"
   ]
  },
  {
   "cell_type": "markdown",
   "id": "d28d0356",
   "metadata": {},
   "source": [
    "### 6.Index , Find index of the value"
   ]
  },
  {
   "cell_type": "code",
   "execution_count": 26,
   "id": "d18228c5",
   "metadata": {},
   "outputs": [
    {
     "name": "stdout",
     "output_type": "stream",
     "text": [
      "4\n"
     ]
    }
   ],
   "source": [
    "l = [1,2,3,4,5]\n",
    "\n",
    "print(l.index(5))           # l.index(value)\n",
    "\n",
    "#Result = 4"
   ]
  },
  {
   "cell_type": "markdown",
   "id": "11c7bcac",
   "metadata": {},
   "source": [
    "### 7.Insert  , Insert data in specific place using index number"
   ]
  },
  {
   "cell_type": "code",
   "execution_count": 48,
   "id": "6e1799f3",
   "metadata": {},
   "outputs": [
    {
     "name": "stdout",
     "output_type": "stream",
     "text": [
      "['one', 1, 2, 3, 4, 5]\n"
     ]
    }
   ],
   "source": [
    "l = [1,2,3,4,5]\n",
    "\n",
    "l.insert(0,'one')           # l.index(index,value)\n",
    "print(l)\n",
    "\n",
    "#Result = ['one', 1, 2, 3, 4, 5]   # After the inserted,Element are shifted by one index to the right side."
   ]
  },
  {
   "cell_type": "markdown",
   "id": "3c1a24b2",
   "metadata": {},
   "source": [
    "### 8.Pop  , Delete data in the list using index"
   ]
  },
  {
   "cell_type": "code",
   "execution_count": 41,
   "id": "e662b684",
   "metadata": {},
   "outputs": [
    {
     "name": "stdout",
     "output_type": "stream",
     "text": [
      "['Apple', 'Orange', 'Grapes']\n"
     ]
    }
   ],
   "source": [
    "l = ['Apple','Orange','Grapes','Banana']\n",
    "\n",
    "l.pop()           # l.pop(index)\n",
    "print(l)\n",
    "\n",
    "# If index not given ,It will delete last data in the list\n",
    "\n",
    "#Result = ['Apple', 'Orange', 'Grapes']"
   ]
  },
  {
   "cell_type": "code",
   "execution_count": 54,
   "id": "871e9e80",
   "metadata": {},
   "outputs": [
    {
     "name": "stdout",
     "output_type": "stream",
     "text": [
      "['Apple', 'Grapes', 'Banana']\n"
     ]
    }
   ],
   "source": [
    "l = ['Apple','Orange','Grapes','Banana']\n",
    "\n",
    "l.pop(1)           # l.pop(index)\n",
    "print(l)\n",
    "\n",
    "# If index not given ,It delete last data in the list\n",
    "\n",
    "#Result = ['Apple', 'Grapes', 'Banana']"
   ]
  },
  {
   "cell_type": "markdown",
   "id": "c92b2173",
   "metadata": {},
   "source": [
    "### 9.Remove  , Delete data in the list using value"
   ]
  },
  {
   "cell_type": "code",
   "execution_count": 52,
   "id": "0467aded",
   "metadata": {},
   "outputs": [
    {
     "name": "stdout",
     "output_type": "stream",
     "text": [
      "['Orange', 'Grapes', 'Banana']\n"
     ]
    }
   ],
   "source": [
    "l = ['Apple','Orange','Grapes','Banana']\n",
    "\n",
    "l.remove('Apple')           # l.remove(value)\n",
    "print(l)\n",
    "\n",
    "#Result = ['Orange', 'Grapes', 'Banana']"
   ]
  },
  {
   "cell_type": "markdown",
   "id": "2eda9cea",
   "metadata": {},
   "source": [
    "### 10.Reverse  , Reverse the datas in the list"
   ]
  },
  {
   "cell_type": "code",
   "execution_count": 56,
   "id": "fbae48f0",
   "metadata": {},
   "outputs": [
    {
     "name": "stdout",
     "output_type": "stream",
     "text": [
      "['Banana', 'Grapes', 'Orange', 'Apple']\n"
     ]
    }
   ],
   "source": [
    "l = ['Apple','Orange','Grapes','Banana']\n",
    "\n",
    "l.reverse()           # l.reverse()\n",
    "print(l)\n",
    "\n",
    "#Result = ['Banana', 'Grapes', 'Orange', 'Apple']"
   ]
  },
  {
   "cell_type": "markdown",
   "id": "62d0a206",
   "metadata": {},
   "source": [
    "### 11.Sort  , Sorted in accending order (0-9,(A-Z)"
   ]
  },
  {
   "cell_type": "code",
   "execution_count": 61,
   "id": "3f4f0944",
   "metadata": {},
   "outputs": [
    {
     "name": "stdout",
     "output_type": "stream",
     "text": [
      "['Apple', 'Banana', 'Grapes', 'Orange']\n"
     ]
    },
    {
     "data": {
      "text/plain": [
       "[1, 2, 3, 4, 7]"
      ]
     },
     "execution_count": 61,
     "metadata": {},
     "output_type": "execute_result"
    }
   ],
   "source": [
    "l = ['Apple','Orange','Grapes','Banana']\n",
    "\n",
    "l.sort()           # l.sort()\n",
    "print(l)\n",
    "\n",
    "#Result = ['Apple', 'Banana', 'Grapes', 'Orange']"
   ]
  },
  {
   "cell_type": "code",
   "execution_count": 1,
   "id": "8ba9f13e",
   "metadata": {
    "scrolled": true
   },
   "outputs": [
    {
     "name": "stdout",
     "output_type": "stream",
     "text": [
      "[1, 2, 3, 4, 5, 6, 7]\n"
     ]
    }
   ],
   "source": [
    "l = [1,3,2,7,4,6,5]\n",
    "\n",
    "l.sort()           # l.sort()\n",
    "print(l)\n",
    "\n",
    "#Result = [1, 2, 3, 4, 5, 6, 7]     # Sorted in accending order, it also can sort in descending order using various function"
   ]
  },
  {
   "cell_type": "markdown",
   "id": "9908382f",
   "metadata": {},
   "source": [
    "# Tuple\n",
    "# Functions\n",
    "    # Count\n",
    "    # Index"
   ]
  },
  {
   "cell_type": "markdown",
   "id": "caeb2d64",
   "metadata": {},
   "source": [
    "### 1.Count  , Count the time of repeted values in the tuple"
   ]
  },
  {
   "cell_type": "code",
   "execution_count": 11,
   "id": "c03cc822",
   "metadata": {},
   "outputs": [
    {
     "name": "stdout",
     "output_type": "stream",
     "text": [
      "2\n"
     ]
    }
   ],
   "source": [
    "t = (1,2,3,4,5,3,7)\n",
    "\n",
    "t1 = t.count(3)            # t.count(value)\n",
    "print(t1)\n",
    "\n",
    "# Result = 2               # 3 repeted 2 time in the tuple"
   ]
  },
  {
   "cell_type": "markdown",
   "id": "a02bab3d",
   "metadata": {},
   "source": [
    "### 2.Index  , Find index of the value"
   ]
  },
  {
   "cell_type": "code",
   "execution_count": 9,
   "id": "1f5c6e25",
   "metadata": {},
   "outputs": [
    {
     "name": "stdout",
     "output_type": "stream",
     "text": [
      "2\n"
     ]
    }
   ],
   "source": [
    "t = (1,2,3,4,5)\n",
    "\n",
    "t1 = t.index(3)            # t.index(value)\n",
    "print(t1)\n",
    "\n",
    "# Result = 2               # index of 3 is 2."
   ]
  },
  {
   "cell_type": "code",
   "execution_count": null,
   "id": "329c7b66",
   "metadata": {},
   "outputs": [],
   "source": []
  }
 ],
 "metadata": {
  "kernelspec": {
   "display_name": "Python 3 (ipykernel)",
   "language": "python",
   "name": "python3"
  },
  "language_info": {
   "codemirror_mode": {
    "name": "ipython",
    "version": 3
   },
   "file_extension": ".py",
   "mimetype": "text/x-python",
   "name": "python",
   "nbconvert_exporter": "python",
   "pygments_lexer": "ipython3",
   "version": "3.11.5"
  }
 },
 "nbformat": 4,
 "nbformat_minor": 5
}
