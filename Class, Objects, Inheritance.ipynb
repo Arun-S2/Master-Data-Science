{
 "cells": [
  {
   "cell_type": "markdown",
   "id": "58b3e743",
   "metadata": {},
   "source": [
    "# Class and Objects\n",
    "\n",
    "### OOPS - Object Oriented Programing System\n",
    "\n",
    "### Python is also a Object Oriented Programing System\n",
    "\n",
    "# Creating class (Name as bus)"
   ]
  },
  {
   "cell_type": "code",
   "execution_count": 7,
   "id": "defd5f18",
   "metadata": {},
   "outputs": [],
   "source": [
    "class bus:                               # Class name\n",
    "    engine = 1                           # Member\n",
    "    door = 1\n",
    "    emergency_door = 1\n",
    "    acc = 1\n",
    "    brake = 1\n",
    "    gear = 6\n",
    "    driver_seat = 1\n",
    "    attender_seat = 1\n",
    "    passenger_seat = 52\n",
    "    \n",
    "    def acc(self):                       # Member function\n",
    "        print('Bus is moving!!!')\n",
    "    def brake(self):\n",
    "        print('Bus is slowely stop!!!')"
   ]
  },
  {
   "cell_type": "markdown",
   "id": "55482a4b",
   "metadata": {},
   "source": [
    "### Assing class to a object (Object is a copy of class)\n",
    "\n",
    "### Object name - volvo"
   ]
  },
  {
   "cell_type": "code",
   "execution_count": 14,
   "id": "26189a9e",
   "metadata": {
    "scrolled": true
   },
   "outputs": [
    {
     "name": "stdout",
     "output_type": "stream",
     "text": [
      "1\n",
      "6\n",
      "52\n",
      "Bus is moving!!!\n",
      "None\n",
      "52\n"
     ]
    }
   ],
   "source": [
    "volvo = bus()                           # Class assinged to a object\n",
    "                                        # Volvo is a object and bus() is a class\n",
    "\n",
    "\n",
    "\n",
    "print(volvo.engine)                     # calling engine in class bus\n",
    "\n",
    "print(volvo.gear)                       # Calling gear in class bus\n",
    "\n",
    "print(volvo.passenger_seat)             # Calling passenger_seat in class bus\n",
    "\n",
    "print(volvo.acc())                      # Calling acc() function in class bus"
   ]
  },
  {
   "cell_type": "markdown",
   "id": "e7e4e6cf",
   "metadata": {},
   "source": [
    "### Assing class to a object (Object is a copy of class)\n",
    "\n",
    "### Object name - govt"
   ]
  },
  {
   "cell_type": "code",
   "execution_count": 9,
   "id": "3570feda",
   "metadata": {},
   "outputs": [
    {
     "name": "stdout",
     "output_type": "stream",
     "text": [
      "1\n",
      "6\n",
      "52\n",
      "Bus is moving!!!\n",
      "None\n"
     ]
    }
   ],
   "source": [
    "govt = bus()                           # Class assinged to a object\n",
    "                                       # govt is a object and bus() is a class\n",
    "\n",
    "\n",
    "\n",
    "print(govt.engine)                     # calling engine in class bus\n",
    "\n",
    "print(govt.gear)                       # Calling gear in class bus\n",
    "\n",
    "print(govt.passenger_seat)             # Calling passenger_seat in class bus\n",
    "\n",
    "print(govt.acc())                      # Calling acc() function in class bus"
   ]
  },
  {
   "cell_type": "markdown",
   "id": "0396dd85",
   "metadata": {},
   "source": [
    "## Changing passenger_seat in the object - govt\n",
    "\n",
    "### Changing in object will not change in class and other objects"
   ]
  },
  {
   "cell_type": "code",
   "execution_count": 44,
   "id": "af0ca0c3",
   "metadata": {
    "scrolled": true
   },
   "outputs": [
    {
     "name": "stdout",
     "output_type": "stream",
     "text": [
      "52\n",
      "60\n",
      "52\n"
     ]
    }
   ],
   "source": [
    "print(govt.passenger_seat)             # Old seat in govt bus\n",
    "\n",
    "govt.passenger_seat = 60               # New seat assinged to govt bus\n",
    "\n",
    "print(govt.passenger_seat)             # New seat in govt bus\n",
    "\n",
    "print(volvo.passenger_seat)            # Seat in volvo bus (it will not change)"
   ]
  },
  {
   "cell_type": "markdown",
   "id": "4423b80a",
   "metadata": {},
   "source": [
    "### Example for class"
   ]
  },
  {
   "cell_type": "code",
   "execution_count": null,
   "id": "f728f909",
   "metadata": {},
   "outputs": [],
   "source": [
    "class math():\n",
    "    def add(self,a,b):\n",
    "        return(a+b)\n",
    "    def sub(self,a,b):\n",
    "        return(a-b)\n",
    "    def mul(self,a,b):\n",
    "        return(a*b)\n",
    "    def div(self,a,b):\n",
    "        return(a/b)\n",
    "\n",
    "cal = math()\n",
    "\n",
    "print(cal.add(10,2))                # Addition\n",
    "\n",
    "print(cal.sub(10,2))                # Subtraction\n",
    "\n",
    "print(cal.mul(10,2))                # Multiply\n",
    "\n",
    "print(cal.div(10,2))                # Division"
   ]
  },
  {
   "cell_type": "markdown",
   "id": "eb42a244",
   "metadata": {},
   "source": [
    "# Inheritance\n",
    "    # Single\n",
    "    # Multiple"
   ]
  },
  {
   "cell_type": "markdown",
   "id": "36558037",
   "metadata": {},
   "source": [
    "### Single inheritance\n",
    "    # Assing single parent class to child class"
   ]
  },
  {
   "cell_type": "code",
   "execution_count": 2,
   "id": "52648f6d",
   "metadata": {},
   "outputs": [
    {
     "name": "stdout",
     "output_type": "stream",
     "text": [
      "10\n"
     ]
    }
   ],
   "source": [
    "# Single Inheritance\n",
    "\n",
    "class parent():                   # Parent class\n",
    "    a = 10\n",
    "\n",
    "class child(parent):              # Child class ,Mentioning this class is a child of parent \n",
    "    pass\n",
    "\n",
    "n = child()                       # Assing obbect for child class\n",
    "\n",
    "print(n.a)                        # Accessing parent member through child class"
   ]
  },
  {
   "cell_type": "markdown",
   "id": "2a1345ec",
   "metadata": {},
   "source": [
    "### Example for single Inheritance"
   ]
  },
  {
   "cell_type": "code",
   "execution_count": null,
   "id": "5b198ddf",
   "metadata": {},
   "outputs": [],
   "source": [
    "class math():\n",
    "    def add(self,a,b):\n",
    "        return(a+b)\n",
    "    def sub(self,a,b):\n",
    "        return(a-b)\n",
    "    def mul(self,a,b):\n",
    "        return(a*b)\n",
    "    def div(self,a,b):\n",
    "        return(a/b)\n",
    "\n",
    "class math_child(math):             # Inheritance\n",
    "    pass\n",
    "\n",
    "cal = math_child()\n",
    "\n",
    "print(cal.add(10,2))                # Addition\n",
    "\n",
    "print(cal.sub(10,2))                # Subtraction\n",
    "\n",
    "print(cal.mul(10,2))                # Multiply\n",
    "\n",
    "print(cal.div(10,2))                # Division"
   ]
  },
  {
   "cell_type": "markdown",
   "id": "e9a065b0",
   "metadata": {},
   "source": [
    "### Multiple inheritance\n",
    "    # Assing more than one parent class to child class"
   ]
  },
  {
   "cell_type": "code",
   "execution_count": 31,
   "id": "3f118d36",
   "metadata": {},
   "outputs": [
    {
     "name": "stdout",
     "output_type": "stream",
     "text": [
      "5\n",
      "20\n"
     ]
    }
   ],
   "source": [
    "# Multiple Inheritance\n",
    "\n",
    "class father():                   # Parent class (Father)\n",
    "    a = 5\n",
    "\n",
    "class mother():                   # Parent class (Mother)\n",
    "    a = 10\n",
    "    b = 20\n",
    "\n",
    "class child(father,mother):       # Child class ,Mentioning this class is a child of father and mother \n",
    "    pass\n",
    "\n",
    "n = child()                       # Assing obbect for child class\n",
    "\n",
    "print(n.a)                        # Accessing parent member through child class\n",
    "\n",
    "# Result will be 5 which is in father class becoz (class child(father,mother):)father is 1st priority for child\n",
    "\n",
    "print(n.b)                        # Accessing parent member through child class"
   ]
  },
  {
   "cell_type": "code",
   "execution_count": null,
   "id": "996ad6dd",
   "metadata": {},
   "outputs": [],
   "source": []
  }
 ],
 "metadata": {
  "kernelspec": {
   "display_name": "Python 3 (ipykernel)",
   "language": "python",
   "name": "python3"
  },
  "language_info": {
   "codemirror_mode": {
    "name": "ipython",
    "version": 3
   },
   "file_extension": ".py",
   "mimetype": "text/x-python",
   "name": "python",
   "nbconvert_exporter": "python",
   "pygments_lexer": "ipython3",
   "version": "3.11.5"
  }
 },
 "nbformat": 4,
 "nbformat_minor": 5
}
