{
 "cells": [
  {
   "cell_type": "markdown",
   "id": "9e1f17cc",
   "metadata": {},
   "source": [
    "# File handling\n",
    "\n",
    "    Syntax = open(Mode'file location')\n",
    "    # f is a variable\n",
    "    # Index can be empty to print all\n",
    "    \n",
    "### Modes\n",
    "    1. Read\n",
    "        1.1 Read file\n",
    "            f.read(index)\n",
    "        1.2 Read by line\n",
    "            f.readline(index)\n",
    "        1.3 Read all lines\n",
    "            f.readlines(index)\n",
    "\n",
    "    2. Write\n",
    "    3. Append"
   ]
  },
  {
   "cell_type": "markdown",
   "id": "ac9f4914",
   "metadata": {},
   "source": [
    "## Read Mode\n",
    "\n",
    "###  1.1 Read file - f.read()"
   ]
  },
  {
   "cell_type": "code",
   "execution_count": 33,
   "id": "d5313eb0",
   "metadata": {},
   "outputs": [
    {
     "name": "stdout",
     "output_type": "stream",
     "text": [
      "Arunkumar\n",
      "Data science\n",
      "Python\n"
     ]
    }
   ],
   "source": [
    "open(r'C:\\Users\\LENOVA\\Desktop\\Sample.txt')       # r is a read mode and location\n",
    "\n",
    "f = open(r'C:\\Users\\LENOVA\\Desktop\\Sample.txt')   # Store data in a variable 'f'\n",
    "\n",
    "print(f.read())                                   # Print the data in a file\n",
    "\n",
    "f.close()                                         # Close"
   ]
  },
  {
   "cell_type": "markdown",
   "id": "30841cd8",
   "metadata": {},
   "source": [
    "### 1.2 Read by line - f.readline()"
   ]
  },
  {
   "cell_type": "code",
   "execution_count": 22,
   "id": "e241ac58",
   "metadata": {},
   "outputs": [
    {
     "name": "stdout",
     "output_type": "stream",
     "text": [
      "Arunkumar\n",
      "\n",
      "Data science\n",
      "\n",
      "Python\n",
      "\n",
      "\n"
     ]
    }
   ],
   "source": [
    "open(r'C:\\Users\\LENOVA\\Desktop\\Sample.txt')       # r is a read mode and location\n",
    "\n",
    "f = open(r'C:\\Users\\LENOVA\\Desktop\\Sample.txt')   # Store data in a variable 'f'\n",
    "\n",
    "print(f.readline())                               # Print the first line in a file\n",
    "\n",
    "print(f.readline())                               # Print the second line in a file\n",
    "\n",
    "print(f.readline())                               # Print a third line in a file\n",
    "\n",
    "f.close()                                         # Close"
   ]
  },
  {
   "cell_type": "markdown",
   "id": "b33c9c4d",
   "metadata": {},
   "source": [
    "### 1.3 Read all lines and store in a list"
   ]
  },
  {
   "cell_type": "code",
   "execution_count": 34,
   "id": "6ab10198",
   "metadata": {},
   "outputs": [
    {
     "name": "stdout",
     "output_type": "stream",
     "text": [
      "['Arunkumar\\n', 'Data science\\n', 'Python']\n"
     ]
    }
   ],
   "source": [
    "open(r'C:\\Users\\LENOVA\\Desktop\\Sample.txt')       # r is a read mode and location\n",
    "\n",
    "f = open(r'C:\\Users\\LENOVA\\Desktop\\Sample.txt')   # Store data in a variable 'f'\n",
    "\n",
    "print(f.readlines())                              # Print the all lines in a file and store in a list\n",
    "\n",
    "f.close()                                         # Close"
   ]
  },
  {
   "cell_type": "markdown",
   "id": "b0288c78",
   "metadata": {},
   "source": [
    "# Write mode\n",
    "\n",
    "### It will delete all the contents in the file and write "
   ]
  },
  {
   "cell_type": "code",
   "execution_count": 37,
   "id": "c8734a92",
   "metadata": {},
   "outputs": [],
   "source": [
    "f = open(r'C:\\Users\\LENOVA\\Desktop\\Sample.txt','w')   # Store data in a variable 'f' and 'w' is write mode\n",
    "\n",
    "f.write('New line')                                   # Write new line\n",
    "\n",
    "f.close()                                             # Close"
   ]
  },
  {
   "cell_type": "markdown",
   "id": "d03c979c",
   "metadata": {},
   "source": [
    "# Append mode \n",
    "\n",
    "\n",
    "### It will append the contents in the file without deleting existing data"
   ]
  },
  {
   "cell_type": "code",
   "execution_count": 38,
   "id": "6be1ccb1",
   "metadata": {},
   "outputs": [],
   "source": [
    "f = open(r'C:\\Users\\LENOVA\\Desktop\\Sample.txt','a')   # Store data in a variable 'f' and 'a' is append mode\n",
    "\n",
    "f.write('New line')                                   # Append new line\n",
    "\n",
    "f.close()                                             # Close"
   ]
  },
  {
   "cell_type": "code",
   "execution_count": null,
   "id": "18f7f072",
   "metadata": {},
   "outputs": [],
   "source": []
  }
 ],
 "metadata": {
  "kernelspec": {
   "display_name": "Python 3 (ipykernel)",
   "language": "python",
   "name": "python3"
  },
  "language_info": {
   "codemirror_mode": {
    "name": "ipython",
    "version": 3
   },
   "file_extension": ".py",
   "mimetype": "text/x-python",
   "name": "python",
   "nbconvert_exporter": "python",
   "pygments_lexer": "ipython3",
   "version": "3.11.5"
  }
 },
 "nbformat": 4,
 "nbformat_minor": 5
}
